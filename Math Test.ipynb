{
 "cells": [
  {
   "cell_type": "code",
   "execution_count": 2,
   "id": "76d383f2",
   "metadata": {},
   "outputs": [],
   "source": [
    "# my noteook"
   ]
  },
  {
   "cell_type": "code",
   "execution_count": 12,
   "id": "379657f5",
   "metadata": {},
   "outputs": [],
   "source": [
    "import random"
   ]
  },
  {
   "cell_type": "code",
   "execution_count": null,
   "id": "65a2740b",
   "metadata": {},
   "outputs": [],
   "source": [
    "    #for 3:\n",
    "    #find out what kind of test \n",
    "    #generate random numbers\n",
    "    #ask user question\n",
    "    #check user answer\n",
    "    #give user score"
   ]
  },
  {
   "cell_type": "code",
   "execution_count": 3,
   "id": "f2c6e2f3",
   "metadata": {},
   "outputs": [],
   "source": [
    "def get_random_nums():\n",
    "    a=random.randint(1,10)\n",
    "    b=random.randint(1,10)\n",
    "    return (a,b)"
   ]
  },
  {
   "cell_type": "code",
   "execution_count": 4,
   "id": "c410a173",
   "metadata": {},
   "outputs": [],
   "source": [
    "def modulo_test_question (a,b):\n",
    "    answer = a%b\n",
    "    question= f\"{a} % {b} = \"\n",
    "    return (question, answer)"
   ]
  },
  {
   "cell_type": "code",
   "execution_count": 39,
   "id": "792c393c",
   "metadata": {},
   "outputs": [],
   "source": [
    "def floor_division_test_question(a,b):\n",
    "    answer=a//b\n",
    "    question =f\"{a}//{b}\"\n",
    "    return (question, answer)"
   ]
  },
  {
   "cell_type": "code",
   "execution_count": 40,
   "id": "232287b7",
   "metadata": {},
   "outputs": [],
   "source": [
    "def ask_question(question, answer):\n",
    "    user_answer=input(question)\n",
    "    right_or_wrong=str(answer)==user_answer\n",
    "    return right_or_wrong\n"
   ]
  },
  {
   "cell_type": "code",
   "execution_count": 41,
   "id": "95c40020",
   "metadata": {},
   "outputs": [],
   "source": [
    "#     a,b = get_random_nums()\n",
    "#     question,answer = modulo_test_question(a,b)\n",
    "#     ask_question (question,answer)"
   ]
  },
  {
   "cell_type": "code",
   "execution_count": 42,
   "id": "d139f864",
   "metadata": {},
   "outputs": [],
   "source": [
    "def proctor_question(question_function):\n",
    "    a,b=get_random_nums()\n",
    "    question,answer=question_function(a,b)\n",
    "    right_or_wrong=ask_question(question,answer)\n",
    "    return right_or_wrong"
   ]
  },
  {
   "cell_type": "code",
   "execution_count": 31,
   "id": "7c83c350",
   "metadata": {},
   "outputs": [
    {
     "name": "stdout",
     "output_type": "stream",
     "text": [
      "2 % 10 = 0\n"
     ]
    },
    {
     "data": {
      "text/plain": [
       "False"
      ]
     },
     "execution_count": 31,
     "metadata": {},
     "output_type": "execute_result"
    }
   ],
   "source": [
    "# proctor_question(modulo_test_question)"
   ]
  },
  {
   "cell_type": "code",
   "execution_count": 54,
   "id": "57495e30",
   "metadata": {},
   "outputs": [
    {
     "name": "stdout",
     "output_type": "stream",
     "text": [
      "test type(%,//)%\n",
      "5 % 6 = 30\n",
      "2 % 4 = 8\n",
      "10 % 2 = 20\n",
      "10 % 2 = 20\n",
      "3 % 6 = 18\n",
      "go again)(y,n)?n\n",
      "0.0\n"
     ]
    }
   ],
   "source": [
    "user_playing=True\n",
    "#TODO:functionalize this!\n",
    "test_type=input(\"test type(%,//)\")\n",
    "question_counter=0\n",
    "correct_counter=0\n",
    "\n",
    "while user_playing:\n",
    "    \n",
    "    for i in range(5):\n",
    "        question_counter+=1\n",
    "        \n",
    "        if test_type==\"%\":\n",
    "            question_function=modulo_test_question\n",
    "            \n",
    "        elif test_type==\"//\":\n",
    "            question_function=floor_division_test_question\n",
    "            \n",
    "        right_or_wrong=proctor_question(question_function)\n",
    "        \n",
    "        if right_or_wrong:\n",
    "            correct_counter+=1\n",
    "            \n",
    "    go_again=input(\"go again)(y,n)?\")\n",
    "        \n",
    "    if go_again==\"n\":\n",
    "        user_playing=False\n",
    "            \n",
    "else:\n",
    "    print(correct_counter/question_counter*100)\n",
    "            "
   ]
  },
  {
   "cell_type": "code",
   "execution_count": null,
   "id": "ebf7e852",
   "metadata": {},
   "outputs": [],
   "source": [
    "\n"
   ]
  },
  {
   "cell_type": "code",
   "execution_count": null,
   "id": "ce888346",
   "metadata": {},
   "outputs": [],
   "source": []
  },
  {
   "cell_type": "code",
   "execution_count": null,
   "id": "1b5bf4a4",
   "metadata": {},
   "outputs": [],
   "source": []
  },
  {
   "cell_type": "code",
   "execution_count": null,
   "id": "67d35ccd",
   "metadata": {},
   "outputs": [],
   "source": []
  },
  {
   "cell_type": "code",
   "execution_count": null,
   "id": "baca499f",
   "metadata": {},
   "outputs": [],
   "source": []
  },
  {
   "cell_type": "code",
   "execution_count": null,
   "id": "057ba862",
   "metadata": {},
   "outputs": [],
   "source": []
  }
 ],
 "metadata": {
  "kernelspec": {
   "display_name": "Python 3 (ipykernel)",
   "language": "python",
   "name": "python3"
  },
  "language_info": {
   "codemirror_mode": {
    "name": "ipython",
    "version": 3
   },
   "file_extension": ".py",
   "mimetype": "text/x-python",
   "name": "python",
   "nbconvert_exporter": "python",
   "pygments_lexer": "ipython3",
   "version": "3.8.9"
  }
 },
 "nbformat": 4,
 "nbformat_minor": 5
}
